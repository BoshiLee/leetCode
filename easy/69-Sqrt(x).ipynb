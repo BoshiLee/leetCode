{
 "cells": [
  {
   "cell_type": "markdown",
   "source": [
    "69. [Sqrt(x)](https://leetcode.com/problems/sqrtx/)\n",
    "Given a non-negative integer x, return the square root of x rounded down to the nearest integer. The returned integer should be non-negative as well.\n",
    "\n",
    "You must not use any built-in exponent function or operator.\n",
    "\n",
    "给你一个非负整数 x ，计算并返回 X 的 算术平方根 。\n",
    "\n",
    "由于返回类型是整数，结果只保留 整数部分 ，小数部分将被 舍去 。\n",
    "\n",
    "注意：不允许使用任何内置指数函数和算符，例如 pow(x, 0.5) 或者 x ** 0.5 。\n",
    "\n",
    "来源：力扣（LeetCode）\n",
    "链接：https://leetcode.cn/problems/sqrtx\n",
    "著作权归领扣网络所有。商业转载请联系官方授权，非商业转载请注明出处。\n"
   ],
   "metadata": {
    "collapsed": false,
    "pycharm": {
     "name": "#%% md\n"
    }
   }
  },
  {
   "cell_type": "code",
   "execution_count": 1,
   "metadata": {
    "collapsed": true,
    "pycharm": {
     "name": "#%%\n"
    }
   },
   "outputs": [
    {
     "data": {
      "text/plain": "2"
     },
     "execution_count": 1,
     "metadata": {},
     "output_type": "execute_result"
    }
   ],
   "source": [
    "def mySqrt(x: int) -> int:\n",
    "    if x in (0, 1): return x\n",
    "\n",
    "    l, r = 0, x\n",
    "    while l < r:\n",
    "        m = (l + r) // 2\n",
    "        if m ** 2 <= x < (m + 1) ** 2:\n",
    "            break\n",
    "\n",
    "        if m ** 2 < x:\n",
    "            l = m\n",
    "        else:\n",
    "            r = m\n",
    "\n",
    "    return m\n",
    "\n",
    "mySqrt(8)"
   ]
  }
 ],
 "metadata": {
  "kernelspec": {
   "display_name": "Python 3",
   "language": "python",
   "name": "python3"
  },
  "language_info": {
   "codemirror_mode": {
    "name": "ipython",
    "version": 2
   },
   "file_extension": ".py",
   "mimetype": "text/x-python",
   "name": "python",
   "nbconvert_exporter": "python",
   "pygments_lexer": "ipython2",
   "version": "2.7.6"
  }
 },
 "nbformat": 4,
 "nbformat_minor": 0
}