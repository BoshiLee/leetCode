{
 "cells": [
  {
   "cell_type": "markdown",
   "source": [
    "[125. 验证回文串](https://leetcode.cn/problems/valid-palindrome)\n",
    "\n",
    "如果在将所有大写字符转换为小写字符、并移除所有非字母数字字符之后，短语正着读和反着读都一样。则可以认为该短语是一个 回文串 。\n",
    "\n",
    "字母和数字都属于字母数字字符。\n",
    "\n",
    "给你一个字符串 s，如果它是 回文串 ，返回 true ；否则，返回 false 。\n",
    "\n",
    "示例 1：\n",
    "\n",
    "```\n",
    "输入: s = \"A man, a plan, a canal: Panama\"\n",
    "输出：true\n",
    "解释：\"amanaplanacanalpanama\" 是回文串。\n",
    "```\n",
    "\n",
    "```\n",
    "示例 2：\n",
    "\n",
    "输入：s = \"race a car\"\n",
    "输出：false\n",
    "解释：\"raceacar\" 不是回文串。\n",
    "```\n",
    "```\n",
    "示例 3：\n",
    "\n",
    "输入：s = \" \"\n",
    "输出：true\n",
    "解释：在移除非字母数字字符之后，s 是一个空字符串 \"\" 。\n",
    "由于空字符串正着反着读都一样，所以是回文串。\n",
    "```\n",
    "来源：力扣（LeetCode）\n",
    "链接：https://leetcode.cn/problems/valid-palindrome\n",
    "著作权归领扣网络所有。商业转载请联系官方授权，非商业转载请注明出处。"
   ],
   "metadata": {
    "collapsed": false,
    "pycharm": {
     "name": "#%% md\n"
    }
   }
  },
  {
   "cell_type": "markdown",
   "source": [
    "[Python isalnum()方法](https://p.ipic.vip/xp0fw3.jpg)"
   ],
   "metadata": {
    "collapsed": false,
    "pycharm": {
     "name": "#%% md\n"
    }
   }
  },
  {
   "cell_type": "code",
   "execution_count": 1,
   "outputs": [
    {
     "name": "stdout",
     "output_type": "stream",
     "text": [
      "True\n",
      "False\n"
     ]
    }
   ],
   "source": [
    "str = \"this2009\" # 字符中没有空格\n",
    "print (str.isalnum())\n",
    "\n",
    "str = \"this is string example....wow!!!\"\n",
    "print (str.isalnum())"
   ],
   "metadata": {
    "collapsed": false,
    "pycharm": {
     "name": "#%%\n"
    }
   }
  },
  {
   "cell_type": "code",
   "execution_count": 7,
   "metadata": {
    "collapsed": true,
    "pycharm": {
     "name": "#%%\n"
    }
   },
   "outputs": [
    {
     "name": "stdout",
     "output_type": "stream",
     "text": [
      "True\n"
     ]
    },
    {
     "data": {
      "text/plain": "True"
     },
     "execution_count": 7,
     "metadata": {},
     "output_type": "execute_result"
    }
   ],
   "source": [
    "def isPalindrome(s: str) -> bool:\n",
    "    left = 0\n",
    "    right = len(s) - 1\n",
    "    while left < right:\n",
    "        if not s[left].isalnum():\n",
    "            left += 1\n",
    "            continue\n",
    "        if not s[right].isalnum():\n",
    "            right -= 1\n",
    "            continue\n",
    "        if s[left].lower() == s[right].lower():\n",
    "            right -= 1\n",
    "            left += 1\n",
    "            continue\n",
    "        break\n",
    "    return right <= left\n",
    "\n",
    "print(isPalindrome('A man, a plan, a canal: Panama'))\n",
    "isPalindrome('Aa')\n"
   ]
  },
  {
   "cell_type": "markdown",
   "source": [
    "这是一道考察回文的题目，而且是最简单的形式，即判断一个字符串是否是回文。\n",
    "针对这个问题，我们可以使用头尾双指针，\n",
    "如果两个指针的元素不相同，则直接返回 false,\n",
    "如果两个指针的元素相同，我们同时更新头尾指针，循环。 直到头尾指针相遇。\n",
    "时间复杂度为 O(n).\n",
    "\n",
    "拿“noon”这样一个回文串来说，我们的判断过程是这样的：\n",
    "\n",
    "![](https://p.ipic.vip/xp0fw3.jpg)"
   ],
   "metadata": {
    "collapsed": false,
    "pycharm": {
     "name": "#%% md\n"
    }
   }
  }
 ],
 "metadata": {
  "kernelspec": {
   "display_name": "Python 3",
   "language": "python",
   "name": "python3"
  },
  "language_info": {
   "codemirror_mode": {
    "name": "ipython",
    "version": 2
   },
   "file_extension": ".py",
   "mimetype": "text/x-python",
   "name": "python",
   "nbconvert_exporter": "python",
   "pygments_lexer": "ipython2",
   "version": "2.7.6"
  }
 },
 "nbformat": 4,
 "nbformat_minor": 0
}