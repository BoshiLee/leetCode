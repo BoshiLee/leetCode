{
 "cells": [
  {
   "cell_type": "markdown",
   "source": [
    "110. Balanced Binary Tree\n",
    "Given a binary tree, determine if it is\n",
    "height-balanced.\n",
    "问题简述\n",
    "给定一个二叉树，判断它是否是高度平衡的二叉树。\n",
    "本题中，一棵高度平衡二叉树定义为：\n",
    "    一个二叉树每个节点 的左右两个子树的高度差的绝对值不超过 1 。\n",
    "\n",
    "![](https://assets.leetcode.com/uploads/2020/10/06/balance_1.jpg)\n",
    "输入：root = [3,9,20,null,null,15,7]\n",
    "输出：true"
   ],
   "metadata": {
    "collapsed": false,
    "pycharm": {
     "name": "#%% md\n"
    }
   }
  },
  {
   "cell_type": "code",
   "execution_count": null,
   "metadata": {
    "collapsed": true,
    "pycharm": {
     "name": "#%%\n"
    }
   },
   "outputs": [],
   "source": [
    "from tree_node import TreeNode\n",
    "def isBalanced( root: TreeNode) -> bool:\n",
    "    def maxDepth(root: TreeNode) -> int:\n",
    "        if root is None: return 0\n",
    "        l_depth = maxDepth(root.left)\n",
    "        r_depth = maxDepth(root.right)\n",
    "        if l_depth == -1 or r_depth == -1 or abs(l_depth - r_depth) > 1:\n",
    "            return -1\n",
    "        return max(l_depth, r_depth) + 1\n",
    "    return maxDepth(root) != -1"
   ]
  }
 ],
 "metadata": {
  "kernelspec": {
   "display_name": "Python 3",
   "language": "python",
   "name": "python3"
  },
  "language_info": {
   "codemirror_mode": {
    "name": "ipython",
    "version": 2
   },
   "file_extension": ".py",
   "mimetype": "text/x-python",
   "name": "python",
   "nbconvert_exporter": "python",
   "pygments_lexer": "ipython2",
   "version": "2.7.6"
  }
 },
 "nbformat": 4,
 "nbformat_minor": 0
}