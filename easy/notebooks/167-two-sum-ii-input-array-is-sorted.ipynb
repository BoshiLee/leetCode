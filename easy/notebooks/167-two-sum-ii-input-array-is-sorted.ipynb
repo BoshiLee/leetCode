{
 "cells": [
  {
   "cell_type": "markdown",
   "source": [
    "[167. 两数之和 II - 输入有序数组](https://leetcode.cn/problems/two-sum-ii-input-array-is-sorted/)\n",
    "\n",
    "给你一个下标从 1 开始的整数数组 `numbers` ，该数组已按`非递减顺序排列` ，请你从数组中找出满足相加之和等于目标数 `target` 的两个数。如果设这两个数分别是 `numbers[index1]` 和 `numbers[index2]` ，则 `1 <= index1 < index2 <= numbers.length` 。\n",
    "\n",
    "以长度为 2 的整数数组 `[index1, index2]` 的形式返回这两个整数的下标 `index1` 和 `index2`。\n",
    "\n",
    "你可以假设每个输入 只对应唯一的答案 ，而且你 不可以 重复使用相同的元素。\n",
    "\n",
    "你所设计的解决方案必须只使用常量级的额外空间。\n",
    "\n",
    "\n",
    "示例 1：\n",
    "```\n",
    "输入：numbers = [2,7,11,15], target = 9\n",
    "输出：[1,2]\n",
    "解释：2 与 7 之和等于目标数 9 。因此 index1 = 1, index2 = 2 。返回 [1, 2] 。\n",
    "```\n",
    "\n",
    "```\n",
    "示例 2：\n",
    "输入：numbers = [2,3,4], target = 6\n",
    "输出：[1,3]\n",
    "解释：2 与 4 之和等于目标数 6 。因此 index1 = 1, index2 = 3 。返回 [1, 3] 。\n",
    "```\n",
    "\n",
    "```\n",
    "示例 3：\n",
    "\n",
    "输入：numbers = [-1,0], target = -1\n",
    "输出：[1,2]\n",
    "解释：-1 与 0 之和等于目标数 -1 。因此 index1 = 1, index2 = 2 。返回 [1, 2] 。\n",
    "```\n",
    "\n",
    "来源：力扣（LeetCode）\n",
    "链接：https://leetcode.cn/problems/two-sum-ii-input-array-is-sorted\n",
    "著作权归领扣网络所有。商业转载请联系官方授权，非商业转载请注明出处。"
   ],
   "metadata": {
    "collapsed": false,
    "pycharm": {
     "name": "#%% md\n"
    }
   }
  },
  {
   "cell_type": "code",
   "execution_count": 3,
   "metadata": {
    "collapsed": true,
    "pycharm": {
     "name": "#%%\n"
    }
   },
   "outputs": [
    {
     "data": {
      "text/plain": "[1, 2]"
     },
     "execution_count": 3,
     "metadata": {},
     "output_type": "execute_result"
    }
   ],
   "source": [
    "def twoSum(numbers: [int], target: int) -> [int]:\n",
    "    left, right = 0, len(numbers) - 1\n",
    "    while numbers[left] + numbers[right] != target:\n",
    "        if numbers[left] + numbers[right] < target:\n",
    "            left += 1\n",
    "        if numbers[left] + numbers[right] > target:\n",
    "            right -= 1\n",
    "    return [left + 1, right + 1]\n",
    "\n",
    "twoSum([2, 7 , 11, 15], 9)"
   ]
  }
 ],
 "metadata": {
  "kernelspec": {
   "display_name": "Python 3",
   "language": "python",
   "name": "python3"
  },
  "language_info": {
   "codemirror_mode": {
    "name": "ipython",
    "version": 2
   },
   "file_extension": ".py",
   "mimetype": "text/x-python",
   "name": "python",
   "nbconvert_exporter": "python",
   "pygments_lexer": "ipython2",
   "version": "2.7.6"
  }
 },
 "nbformat": 4,
 "nbformat_minor": 0
}