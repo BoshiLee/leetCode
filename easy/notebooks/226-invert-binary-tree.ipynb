{
 "cells": [
  {
   "cell_type": "markdown",
   "source": [
    "# 226. [翻转二叉树](https://leetcode.cn/problems/invert-binary-tree/)\n",
    "给你一棵二叉树的根节点 root ，翻转这棵二叉树，并返回其根节点。\n",
    "![](https://assets.leetcode.com/uploads/2021/03/14/invert1-tree.jpg)\n",
    "```\n",
    "输入：root = [4,2,7,1,3,6,9]\n",
    "输出：[4,7,2,9,6,3,1]\n",
    "```\n",
    "![](https://assets.leetcode.com/uploads/2021/03/14/invert2-tree.jpg)\n",
    "```\n",
    "输入：root = [2,1,3]\n",
    "输出：[2,3,1]\n",
    "```"
   ],
   "metadata": {
    "collapsed": false,
    "pycharm": {
     "name": "#%% md\n"
    }
   }
  },
  {
   "cell_type": "code",
   "execution_count": null,
   "metadata": {
    "collapsed": true,
    "pycharm": {
     "name": "#%%\n"
    }
   },
   "outputs": [],
   "source": [
    "from tree_node import TreeNode\n",
    "def invertTree(self, root: TreeNode) -> TreeNode:\n",
    "    if not root: return None\n",
    "    left = self.invertTree(root.left)\n",
    "    right = self.invertTree(root.right)\n",
    "    root.left = right\n",
    "    root.right = left\n",
    "    return root"
   ]
  }
 ],
 "metadata": {
  "kernelspec": {
   "display_name": "Python 3",
   "language": "python",
   "name": "python3"
  },
  "language_info": {
   "codemirror_mode": {
    "name": "ipython",
    "version": 2
   },
   "file_extension": ".py",
   "mimetype": "text/x-python",
   "name": "python",
   "nbconvert_exporter": "python",
   "pygments_lexer": "ipython2",
   "version": "2.7.6"
  }
 },
 "nbformat": 4,
 "nbformat_minor": 0
}