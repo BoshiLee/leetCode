{
 "cells": [
  {
   "cell_type": "markdown",
   "source": [
    "给定一个大小为 n 的数组，找到其中的多数元素。多数元素是指在数组中出现次数大于 `n/2` 的元素。\n",
    "\n",
    "你可以假设数组是非空的，并且给定的数组总是存在多数元素。\n",
    "\n",
    "```\n",
    "示例1:\n",
    "\n",
    "输入: [3,2,3]\n",
    "输出: 3\n",
    "```\n",
    "\n",
    "```\n",
    "示例2:\n",
    "\n",
    "输入: [2,2,1,1,1,2,2]\n",
    "输出: 2\n",
    "```\n"
   ],
   "metadata": {
    "collapsed": false,
    "pycharm": {
     "name": "#%% md\n"
    }
   }
  },
  {
   "cell_type": "code",
   "execution_count": 6,
   "metadata": {
    "collapsed": true,
    "pycharm": {
     "name": "#%%\n"
    }
   },
   "outputs": [
    {
     "data": {
      "text/plain": "2"
     },
     "execution_count": 6,
     "metadata": {},
     "output_type": "execute_result"
    }
   ],
   "source": [
    "def majorityElement(nums: [int]) -> int:\n",
    "    count, majority = 1, nums[0]\n",
    "    for i in nums[1:]:\n",
    "        if count == 0:\n",
    "            majority = i\n",
    "        if i == majority:\n",
    "            count += 1\n",
    "        if i != majority:\n",
    "            count -= 1\n",
    "\n",
    "    return majority\n",
    "\n",
    "majorityElement([2,2,1,1,1,2,2])"
   ]
  },
  {
   "cell_type": "markdown",
   "source": [
    "Boyer–Moore majority vote algorithm(摩爾投票算法)\n",
    "這個算法的核心在於，\n",
    "刪去一個數列中的兩個不同的數字，不會影響該數列的majority element。\n",
    "\n",
    "假想有一群人要投票，候選人有A、B、C，假設A已知會過半數的話，\n",
    "任取其中2個人取消他們的投票資格，會有以下的狀況：\n",
    "\n",
    "被取消資格的是B跟C -> 顯然A還是過半數(而且比例更高了XD)\n",
    "被取消資格的是(A, B)或(A, C) -> 一個投A的和一個不投A的同步被排除，\n",
    "所以無法改變A會過半數的狀況。\n",
    "同理，在不只3個候選人(數字)的時候，每次取2個人取消投票資格(移除)，亦無法改變投票結果(A還是會是majority element)。\n",
    "\n",
    "https://ithelp.ithome.com.tw/articles/10213285"
   ],
   "metadata": {
    "collapsed": false,
    "pycharm": {
     "name": "#%% md\n"
    }
   }
  }
 ],
 "metadata": {
  "kernelspec": {
   "display_name": "Python 3",
   "language": "python",
   "name": "python3"
  },
  "language_info": {
   "codemirror_mode": {
    "name": "ipython",
    "version": 2
   },
   "file_extension": ".py",
   "mimetype": "text/x-python",
   "name": "python",
   "nbconvert_exporter": "python",
   "pygments_lexer": "ipython2",
   "version": "2.7.6"
  }
 },
 "nbformat": 4,
 "nbformat_minor": 0
}