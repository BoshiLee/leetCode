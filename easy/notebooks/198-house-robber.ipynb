{
 "cells": [
  {
   "cell_type": "markdown",
   "source": [
    "你是一个专业的小偷，计划偷窃沿街的房屋。每间房内都藏有一定的现金，影响你偷窃的唯一制约因素就是相邻的房屋装有相互连通的防盗系统，*如果两间相邻的房屋在同一晚上被小偷闯入，系统会自动报警*。\n",
    "\n",
    "给定一个代表每个房屋存放金额的非负整数数组，计算你 *不触动警报装置的情况下* ，一夜之内能够偷窃到的最高金额。\n",
    "```\n",
    "示例 1：\n",
    "\n",
    "输入：[1,2,3,1]\n",
    "输出：4\n",
    "解释：偷窃 1 号房屋 (金额 = 1) ，然后偷窃 3 号房屋 (金额 = 3)。\n",
    "    偷窃到的最高金额 = 1 + 3 = 4 。\n",
    "```\n",
    "```\n",
    "示例 2：\n",
    "\n",
    "输入：[2,7,9,3,1]\n",
    "输出：12\n",
    "解释：偷窃 1 号房屋 (金额 = 2), 偷窃 3 号房屋 (金额 = 9)，接着偷窃 5 号房屋 (金额 = 1)。\n",
    "    偷窃到的最高金额 = 2 + 9 + 1 = 12 。\n",
    "```\n",
    "来源：力扣（LeetCode）\n",
    "链接：https://leetcode.cn/problems/house-robber\n",
    "著作权归领扣网络所有。商业转载请联系官方授权，非商业转载请注明出处。"
   ],
   "metadata": {
    "collapsed": false,
    "pycharm": {
     "name": "#%% md\n"
    }
   }
  },
  {
   "cell_type": "code",
   "execution_count": null,
   "outputs": [],
   "source": [
    "def rob(self, nums: [int]) -> int:\n",
    "    l = len(nums)\n",
    "    if l == 0:\n",
    "        return 0\n",
    "    if l == 1:\n",
    "        return nums[0]\n",
    "    rob = [0] * l\n",
    "    rob[0] = nums[0]\n",
    "    rob[1] = max(nums[0], nums[1])\n",
    "\n",
    "    for i in range(2, l):\n",
    "        rob[i] = max(nums[i] + rob[i-2], rob[i-1])\n",
    "\n",
    "    return rob[-1]"
   ],
   "metadata": {
    "collapsed": false,
    "pycharm": {
     "name": "#%%\n"
    }
   }
  },
  {
   "cell_type": "code",
   "execution_count": 1,
   "metadata": {
    "collapsed": true,
    "pycharm": {
     "name": "#%%\n"
    }
   },
   "outputs": [
    {
     "data": {
      "text/plain": "4"
     },
     "execution_count": 1,
     "metadata": {},
     "output_type": "execute_result"
    }
   ],
   "source": [
    "def rob(nums: [int]) -> int:\n",
    "    a, b = 0, 0\n",
    "    for i in range(len(nums)):\n",
    "        temp = b\n",
    "        b = max(a + nums[i], b)\n",
    "        a = temp\n",
    "    return b\n",
    "\n",
    "rob([1,2,3,1])"
   ]
  },
  {
   "cell_type": "markdown",
   "source": [
    "提示: https://ithelp.ithome.com.tw/articles/10213292"
   ],
   "metadata": {
    "collapsed": false,
    "pycharm": {
     "name": "#%% md\n"
    }
   }
  }
 ],
 "metadata": {
  "kernelspec": {
   "display_name": "Python 3",
   "language": "python",
   "name": "python3"
  },
  "language_info": {
   "codemirror_mode": {
    "name": "ipython",
    "version": 2
   },
   "file_extension": ".py",
   "mimetype": "text/x-python",
   "name": "python",
   "nbconvert_exporter": "python",
   "pygments_lexer": "ipython2",
   "version": "2.7.6"
  }
 },
 "nbformat": 4,
 "nbformat_minor": 0
}