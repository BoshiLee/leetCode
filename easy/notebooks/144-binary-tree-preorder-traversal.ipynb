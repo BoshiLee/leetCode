{
 "cells": [
  {
   "cell_type": "markdown",
   "source": [
    "题目地址(144. 二叉树的前序遍历)\n",
    "https://leetcode-cn.com/problems/binary-tree-preorder-traversal/\n",
    "\n",
    "![](https://assets.leetcode.com/uploads/2020/09/15/inorder_1.jpg)\n",
    "\n",
    "```\n",
    "输入：root = [1,null,2,3]\n",
    "输出：[1,2,3]\n",
    "```"
   ],
   "metadata": {
    "collapsed": false,
    "pycharm": {
     "name": "#%% md\n"
    }
   }
  },
  {
   "cell_type": "code",
   "execution_count": null,
   "metadata": {
    "collapsed": true,
    "pycharm": {
     "name": "#%%\n"
    }
   },
   "outputs": [],
   "source": [
    "from tree_node import TreeNode\n",
    "def preorderTraversal(root: TreeNode) -> [int]:\n",
    "    result = []\n",
    "    def dfs(root):\n",
    "        if not root: return None\n",
    "        result.append(root.val)\n",
    "        dfs(root.left)\n",
    "        dfs(root.right)\n",
    "    dfs(root)\n",
    "    return result"
   ]
  },
  {
   "cell_type": "markdown",
   "source": [],
   "metadata": {
    "collapsed": false,
    "pycharm": {
     "name": "#%% md\n"
    }
   }
  }
 ],
 "metadata": {
  "kernelspec": {
   "display_name": "Python 3",
   "language": "python",
   "name": "python3"
  },
  "language_info": {
   "codemirror_mode": {
    "name": "ipython",
    "version": 2
   },
   "file_extension": ".py",
   "mimetype": "text/x-python",
   "name": "python",
   "nbconvert_exporter": "python",
   "pygments_lexer": "ipython2",
   "version": "2.7.6"
  }
 },
 "nbformat": 4,
 "nbformat_minor": 0
}