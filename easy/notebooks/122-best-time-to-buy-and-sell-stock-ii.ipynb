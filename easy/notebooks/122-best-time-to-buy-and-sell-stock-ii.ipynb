{
 "cells": [
  {
   "cell_type": "markdown",
   "source": [
    "[122. 买卖股票的最佳时机 II](https://leetcode.cn/problems/best-time-to-buy-and-sell-stock-ii)\n",
    "\n",
    "给你一个整数数组 prices ，其中 `prices[i]` 表示某支股票第 `i` 天的价格。\n",
    "\n",
    "在每一天，你可以决定是否购买和/或出售股票。你在任何时候`最多`只能持有 一股 股票。你也可以先购买，然后在 `同一天` 出售。\n",
    "\n",
    "返回 你能获得的 `最大` 利润。\n",
    "\n",
    "示例 1：\n",
    "```\n",
    "输入：prices = [7,1,5,3,6,4]\n",
    "输出：7\n",
    "解释：在第 2 天（股票价格 = 1）的时候买入，在第 3 天（股票价格 = 5）的时候卖出, 这笔交易所能获得利润 = 5 - 1 = 4 。\n",
    "    随后，在第 4 天（股票价格 = 3）的时候买入，在第 5 天（股票价格 = 6）的时候卖出, 这笔交易所能获得利润 = 6 - 3 = 3 。\n",
    "     总利润为 4 + 3 = 7 。\n",
    "```\n",
    "示例 2：\n",
    "```\n",
    "输入：prices = [1,2,3,4,5]\n",
    "输出：4\n",
    "解释：在第 1 天（股票价格 = 1）的时候买入，在第 5 天 （股票价格 = 5）的时候卖出, 这笔交易所能获得利润 = 5 - 1 = 4 。\n",
    "    总利润为 4 。\n",
    "示例3：\n",
    "```\n",
    "```\n",
    "输入：prices = [7,6,4,3,1]\n",
    "输出：0\n",
    "解释：在这种情况下, 交易无法获得正利润，所以不参与交易可以获得最大利润，最大利润为 0 。\n",
    "```\n",
    "来源：力扣（LeetCode）\n",
    "链接：https://leetcode.cn/problems/best-time-to-buy-and-sell-stock-ii\n",
    "著作权归领扣网络所有。商业转载请联系官方授权，非商业转载请注明出处。"
   ],
   "metadata": {
    "collapsed": false,
    "pycharm": {
     "name": "#%% md\n"
    }
   }
  },
  {
   "cell_type": "code",
   "execution_count": 2,
   "metadata": {
    "collapsed": true,
    "pycharm": {
     "name": "#%%\n"
    }
   },
   "outputs": [
    {
     "data": {
      "text/plain": "7"
     },
     "execution_count": 2,
     "metadata": {},
     "output_type": "execute_result"
    }
   ],
   "source": [
    "def maxProfit(prices: [int]) -> int:\n",
    "    sum_profit = 0\n",
    "    for i in range(1, len(prices)):\n",
    "        old_price = prices[i - 1]\n",
    "        profit = prices[i] - old_price\n",
    "        if profit > 0: sum_profit += profit\n",
    "    return sum_profit\n",
    "\n",
    "maxProfit([7,1,5,3,6,4])"
   ]
  },
  {
   "cell_type": "markdown",
   "source": [
    "算法流程：\n",
    "\n",
    "遍历整个股票交易日价格列表 price，策略是所有上涨交易日都买卖（赚到所有利润），所有下降交易日都不买卖（永不亏钱）。\n",
    "设 tmp 为第 i-1 日买入与第 i 日卖出赚取的利润，即 tmp = prices[i] - prices[i - 1] ；\n",
    "当该天利润为正 tmp > 0，则将利润加入总利润 profit；当利润为 00 或为负，则直接跳过；\n",
    "遍历完成后，返回总利润 profit。\n",
    "\n",
    "作者：jyd\n",
    "链接：https://leetcode.cn/problems/best-time-to-buy-and-sell-stock-ii/solution/best-time-to-buy-and-sell-stock-ii-zhuan-hua-fa-ji/\n",
    "来源：力扣（LeetCode）\n",
    "著作权归作者所有。商业转载请联系作者获得授权，非商业转载请注明出处。"
   ],
   "metadata": {
    "collapsed": false,
    "pycharm": {
     "name": "#%% md\n"
    }
   }
  }
 ],
 "metadata": {
  "kernelspec": {
   "display_name": "Python 3",
   "language": "python",
   "name": "python3"
  },
  "language_info": {
   "codemirror_mode": {
    "name": "ipython",
    "version": 2
   },
   "file_extension": ".py",
   "mimetype": "text/x-python",
   "name": "python",
   "nbconvert_exporter": "python",
   "pygments_lexer": "ipython2",
   "version": "2.7.6"
  }
 },
 "nbformat": 4,
 "nbformat_minor": 0
}