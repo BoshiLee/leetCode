{
 "cells": [
  {
   "cell_type": "markdown",
   "source": [
    "101. [Symmetric Tree](https://leetcode.com/problems/symmetric-tree/)\n",
    "给你一个二叉树的根节点 root ， 检查它是否轴对称。\n",
    "https://leetcode.cn/problems/symmetric-tree/\n",
    "\n",
    "![](https://assets.leetcode.com/uploads/2021/02/19/symtree1.jpg)\n",
    "```\n",
    "输入：root = [1,2,2,3,4,4,3]\n",
    "输出：true\n",
    "```\n",
    "![](https://assets.leetcode.com/uploads/2021/02/19/symtree2.jpg)\n",
    "```\n",
    "输入：root = [1,2,2,null,3,null,3]\n",
    "输出：false\n",
    "```\n"
   ],
   "metadata": {
    "collapsed": false,
    "pycharm": {
     "name": "#%% md\n"
    }
   }
  },
  {
   "cell_type": "code",
   "execution_count": null,
   "metadata": {
    "collapsed": true,
    "pycharm": {
     "name": "#%%\n"
    }
   },
   "outputs": [],
   "source": [
    "from tree_node import TreeNode\n",
    "def isSymmetric(root: [TreeNode]) -> bool:\n",
    "    if not root: return True\n",
    "    def dfs(root1, root2):\n",
    "        if not root1 and not root2: return True\n",
    "        if not root1 or not root2: return False\n",
    "        if root1.val != root2.val: return False\n",
    "        return dfs(root1.right, root2.left) and dfs(root1.left, root2.right)\n",
    "    return dfs(root.right, root.left)"
   ]
  }
 ],
 "metadata": {
  "kernelspec": {
   "display_name": "Python 3",
   "language": "python",
   "name": "python3"
  },
  "language_info": {
   "codemirror_mode": {
    "name": "ipython",
    "version": 2
   },
   "file_extension": ".py",
   "mimetype": "text/x-python",
   "name": "python",
   "nbconvert_exporter": "python",
   "pygments_lexer": "ipython2",
   "version": "2.7.6"
  }
 },
 "nbformat": 4,
 "nbformat_minor": 0
}