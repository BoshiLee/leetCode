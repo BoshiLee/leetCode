{
 "cells": [
  {
   "cell_type": "code",
   "execution_count": 93,
   "metadata": {
    "collapsed": true,
    "pycharm": {
     "name": "#%%\n"
    }
   },
   "outputs": [
    {
     "name": "stdout",
     "output_type": "stream",
     "text": [
      "4\n",
      "1\n"
     ]
    }
   ],
   "source": [
    "def singleNumber(nums) -> int:\n",
    "    def xor(sum, nums):\n",
    "        if len(nums) == 0:\n",
    "            return sum\n",
    "        return xor(sum ^ nums[0], nums[1:len(nums)])\n",
    "    return xor(0, nums)\n",
    "\n",
    "\n",
    "print(singleNumber([4,1,2,1,2]))\n",
    "print(singleNumber([2,2,1]))"
   ]
  },
  {
   "cell_type": "code",
   "execution_count": 90,
   "outputs": [
    {
     "name": "stdout",
     "output_type": "stream",
     "text": [
      "7\n"
     ]
    }
   ],
   "source": [
    "print(1 ^ 4 ^ 1 ^ 3)\n",
    "# 相同的元素會被抵銷，不相同的才會相加"
   ],
   "metadata": {
    "collapsed": false,
    "pycharm": {
     "name": "#%%\n"
    }
   }
  }
 ],
 "metadata": {
  "kernelspec": {
   "display_name": "Python 3",
   "language": "python",
   "name": "python3"
  },
  "language_info": {
   "codemirror_mode": {
    "name": "ipython",
    "version": 2
   },
   "file_extension": ".py",
   "mimetype": "text/x-python",
   "name": "python",
   "nbconvert_exporter": "python",
   "pygments_lexer": "ipython2",
   "version": "2.7.6"
  }
 },
 "nbformat": 4,
 "nbformat_minor": 0
}